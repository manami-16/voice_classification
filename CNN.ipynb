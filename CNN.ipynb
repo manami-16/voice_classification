{
 "cells": [
  {
   "cell_type": "code",
   "execution_count": 1,
   "id": "1dd649a9",
   "metadata": {},
   "outputs": [],
   "source": [
    "import numpy as np\n",
    "import matplotlib.pyplot as plt\n",
    "import glob\n",
    "\n",
    "import torch\n",
    "import torch.nn as nn\n",
    "import torch.nn.functional as F\n",
    "import torch.optim as optim\n",
    "from torch.utils.data import ConcatDataset, DataLoader, sampler, Dataset\n",
    "from sklearn.metrics import roc_curve, auc\n",
    "import os, time\n",
    "from sklearn.model_selection import train_test_split\n",
    "from tqdm.notebook import tqdm\n",
    "import pandas as pd\n",
    "from src.data import *"
   ]
  },
  {
   "cell_type": "code",
   "execution_count": 2,
   "id": "f28d9821",
   "metadata": {},
   "outputs": [
    {
     "data": {
      "text/html": [
       "<div>\n",
       "<style scoped>\n",
       "    .dataframe tbody tr th:only-of-type {\n",
       "        vertical-align: middle;\n",
       "    }\n",
       "\n",
       "    .dataframe tbody tr th {\n",
       "        vertical-align: top;\n",
       "    }\n",
       "\n",
       "    .dataframe thead th {\n",
       "        text-align: right;\n",
       "    }\n",
       "</style>\n",
       "<table border=\"1\" class=\"dataframe\">\n",
       "  <thead>\n",
       "    <tr style=\"text-align: right;\">\n",
       "      <th></th>\n",
       "      <th>filename</th>\n",
       "      <th>class</th>\n",
       "      <th>classID</th>\n",
       "      <th>duration</th>\n",
       "      <th>wave</th>\n",
       "    </tr>\n",
       "  </thead>\n",
       "  <tbody>\n",
       "    <tr>\n",
       "      <th>0</th>\n",
       "      <td>angry_8.wav</td>\n",
       "      <td>angry</td>\n",
       "      <td>0</td>\n",
       "      <td>1.856000</td>\n",
       "      <td>[0.52698815 0.52515697 0.52511334 ... 0.525026...</td>\n",
       "    </tr>\n",
       "    <tr>\n",
       "      <th>1</th>\n",
       "      <td>angry_9.wav</td>\n",
       "      <td>angry</td>\n",
       "      <td>0</td>\n",
       "      <td>2.026667</td>\n",
       "      <td>[0.51062459 0.51062459 0.5106585  ... 0.511099...</td>\n",
       "    </tr>\n",
       "    <tr>\n",
       "      <th>2</th>\n",
       "      <td>angry_45.wav</td>\n",
       "      <td>angry</td>\n",
       "      <td>0</td>\n",
       "      <td>1.920000</td>\n",
       "      <td>[0.51822275 0.51832515 0.51842749 ... 0.521089...</td>\n",
       "    </tr>\n",
       "    <tr>\n",
       "      <th>3</th>\n",
       "      <td>angry_44.wav</td>\n",
       "      <td>angry</td>\n",
       "      <td>0</td>\n",
       "      <td>1.173333</td>\n",
       "      <td>[0.47048649 0.47091892 0.47113514 ... 0.453405...</td>\n",
       "    </tr>\n",
       "    <tr>\n",
       "      <th>4</th>\n",
       "      <td>angry_40.wav</td>\n",
       "      <td>angry</td>\n",
       "      <td>0</td>\n",
       "      <td>1.216000</td>\n",
       "      <td>[0.44531354 0.44531354 0.44531354 ... 0.445313...</td>\n",
       "    </tr>\n",
       "  </tbody>\n",
       "</table>\n",
       "</div>"
      ],
      "text/plain": [
       "       filename  class  classID  duration  \\\n",
       "0   angry_8.wav  angry        0  1.856000   \n",
       "1   angry_9.wav  angry        0  2.026667   \n",
       "2  angry_45.wav  angry        0  1.920000   \n",
       "3  angry_44.wav  angry        0  1.173333   \n",
       "4  angry_40.wav  angry        0  1.216000   \n",
       "\n",
       "                                                wave  \n",
       "0  [0.52698815 0.52515697 0.52511334 ... 0.525026...  \n",
       "1  [0.51062459 0.51062459 0.5106585  ... 0.511099...  \n",
       "2  [0.51822275 0.51832515 0.51842749 ... 0.521089...  \n",
       "3  [0.47048649 0.47091892 0.47113514 ... 0.453405...  \n",
       "4  [0.44531354 0.44531354 0.44531354 ... 0.445313...  "
      ]
     },
     "execution_count": 2,
     "metadata": {},
     "output_type": "execute_result"
    }
   ],
   "source": [
    "df = pd.read_csv('./dataframe.csv')\n",
    "df.drop('Unnamed: 0', axis=1, inplace=True)\n",
    "df.head()"
   ]
  },
  {
   "cell_type": "code",
   "execution_count": 3,
   "id": "eb79659f",
   "metadata": {},
   "outputs": [
    {
     "name": "stdout",
     "output_type": "stream",
     "text": [
      "----------\n",
      "Training set - (array([0, 1]), array([20, 25]))\n",
      "Validation set - (array([0, 1]), array([12,  9]))\n",
      "Test set - (array([0, 1]), array([12,  9]))\n",
      "----------\n",
      "----- Custom Dataset -----\n",
      "train data = {'data': '[0.52759773 0.52759773 0.52765    ... 0.52775455 0.52785909 0.52780682]', 'target': 1}\n"
     ]
    },
    {
     "data": {
      "text/plain": [
       "(<torch.utils.data.dataloader.DataLoader at 0x7f8fff73a7d0>,\n",
       " <torch.utils.data.dataloader.DataLoader at 0x7f8fff73a890>,\n",
       " <torch.utils.data.dataloader.DataLoader at 0x7f8fff73a690>)"
      ]
     },
     "execution_count": 3,
     "metadata": {},
     "output_type": "execute_result"
    }
   ],
   "source": [
    "create_dataloader(df)"
   ]
  }
 ],
 "metadata": {
  "kernelspec": {
   "display_name": "Python 3",
   "language": "python",
   "name": "python3"
  },
  "language_info": {
   "codemirror_mode": {
    "name": "ipython",
    "version": 3
   },
   "file_extension": ".py",
   "mimetype": "text/x-python",
   "name": "python",
   "nbconvert_exporter": "python",
   "pygments_lexer": "ipython3",
   "version": "3.7.6"
  }
 },
 "nbformat": 4,
 "nbformat_minor": 5
}
