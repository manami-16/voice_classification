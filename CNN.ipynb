{
 "cells": [
  {
   "cell_type": "code",
   "execution_count": 1,
   "id": "bf419e95",
   "metadata": {},
   "outputs": [],
   "source": [
    "import numpy as np\n",
    "import matplotlib.pyplot as plt\n",
    "import glob\n",
    "\n",
    "import torch\n",
    "import torch.nn as nn\n",
    "import torch.nn.functional as F\n",
    "import torch.optim as optim\n",
    "from torch.utils.data import ConcatDataset, DataLoader, sampler, Dataset\n",
    "from sklearn.metrics import roc_curve, auc\n",
    "import os, time\n",
    "from sklearn.model_selection import train_test_split\n",
    "from tqdm.notebook import tqdm\n",
    "import pandas as pd\n",
    "from src.data import *\n",
    "from src.utils import save_checkpoint\n",
    "from torchsummary import summary\n",
    "from ipywidgets import IntProgress"
   ]
  },
  {
   "cell_type": "code",
   "execution_count": 2,
   "id": "64d7d169",
   "metadata": {},
   "outputs": [
    {
     "data": {
      "text/html": [
       "<div>\n",
       "<style scoped>\n",
       "    .dataframe tbody tr th:only-of-type {\n",
       "        vertical-align: middle;\n",
       "    }\n",
       "\n",
       "    .dataframe tbody tr th {\n",
       "        vertical-align: top;\n",
       "    }\n",
       "\n",
       "    .dataframe thead th {\n",
       "        text-align: right;\n",
       "    }\n",
       "</style>\n",
       "<table border=\"1\" class=\"dataframe\">\n",
       "  <thead>\n",
       "    <tr style=\"text-align: right;\">\n",
       "      <th></th>\n",
       "      <th>filename</th>\n",
       "      <th>class</th>\n",
       "      <th>classID</th>\n",
       "      <th>duration</th>\n",
       "      <th>wave</th>\n",
       "    </tr>\n",
       "  </thead>\n",
       "  <tbody>\n",
       "    <tr>\n",
       "      <th>0</th>\n",
       "      <td>angry_8.wav</td>\n",
       "      <td>angry</td>\n",
       "      <td>0</td>\n",
       "      <td>1.856000</td>\n",
       "      <td>[0.52698815 0.52515697 0.52511334 ... 0.525026...</td>\n",
       "    </tr>\n",
       "    <tr>\n",
       "      <th>1</th>\n",
       "      <td>angry_9.wav</td>\n",
       "      <td>angry</td>\n",
       "      <td>0</td>\n",
       "      <td>2.026667</td>\n",
       "      <td>[0.51062459 0.51062459 0.5106585  ... 0.511099...</td>\n",
       "    </tr>\n",
       "    <tr>\n",
       "      <th>2</th>\n",
       "      <td>angry_45.wav</td>\n",
       "      <td>angry</td>\n",
       "      <td>0</td>\n",
       "      <td>1.920000</td>\n",
       "      <td>[0.51822275 0.51832515 0.51842749 ... 0.521089...</td>\n",
       "    </tr>\n",
       "    <tr>\n",
       "      <th>3</th>\n",
       "      <td>angry_44.wav</td>\n",
       "      <td>angry</td>\n",
       "      <td>0</td>\n",
       "      <td>1.173333</td>\n",
       "      <td>[0.47048649 0.47091892 0.47113514 ... 0.453405...</td>\n",
       "    </tr>\n",
       "    <tr>\n",
       "      <th>4</th>\n",
       "      <td>angry_40.wav</td>\n",
       "      <td>angry</td>\n",
       "      <td>0</td>\n",
       "      <td>1.216000</td>\n",
       "      <td>[0.44531354 0.44531354 0.44531354 ... 0.445313...</td>\n",
       "    </tr>\n",
       "  </tbody>\n",
       "</table>\n",
       "</div>"
      ],
      "text/plain": [
       "       filename  class  classID  duration  \\\n",
       "0   angry_8.wav  angry        0  1.856000   \n",
       "1   angry_9.wav  angry        0  2.026667   \n",
       "2  angry_45.wav  angry        0  1.920000   \n",
       "3  angry_44.wav  angry        0  1.173333   \n",
       "4  angry_40.wav  angry        0  1.216000   \n",
       "\n",
       "                                                wave  \n",
       "0  [0.52698815 0.52515697 0.52511334 ... 0.525026...  \n",
       "1  [0.51062459 0.51062459 0.5106585  ... 0.511099...  \n",
       "2  [0.51822275 0.51832515 0.51842749 ... 0.521089...  \n",
       "3  [0.47048649 0.47091892 0.47113514 ... 0.453405...  \n",
       "4  [0.44531354 0.44531354 0.44531354 ... 0.445313...  "
      ]
     },
     "execution_count": 2,
     "metadata": {},
     "output_type": "execute_result"
    }
   ],
   "source": [
    "df = pd.read_csv('./dataframe.csv')\n",
    "df.drop('Unnamed: 0', axis=1, inplace=True)\n",
    "df.head()"
   ]
  },
  {
   "cell_type": "code",
   "execution_count": 3,
   "id": "ac2152aa",
   "metadata": {},
   "outputs": [
    {
     "name": "stdout",
     "output_type": "stream",
     "text": [
      "----- Custom Dataset -----\n",
      "train data = {'data': array([[0.56816417],\n",
      "       [0.56816417],\n",
      "       [0.56816417],\n",
      "       ...,\n",
      "       [0.        ],\n",
      "       [0.        ],\n",
      "       [0.        ]]), 'target': 1}\n"
     ]
    }
   ],
   "source": [
    "train_loader, valid_loader, test_loader = create_dataloader(df)"
   ]
  },
  {
   "cell_type": "code",
   "execution_count": 9,
   "id": "a81543ce",
   "metadata": {},
   "outputs": [
    {
     "name": "stdout",
     "output_type": "stream",
     "text": [
      "----- Custom Dataset -----\n",
      "train data = {'data': array([[0.54177934],\n",
      "       [0.54149467],\n",
      "       [0.54177934],\n",
      "       ...,\n",
      "       [0.        ],\n",
      "       [0.        ],\n",
      "       [0.        ]]), 'target': 1}\n"
     ]
    }
   ],
   "source": [
    "train_loader, valid_loader, test_loader = create_dataloader(df)"
   ]
  },
  {
   "cell_type": "code",
   "execution_count": 10,
   "id": "505c10f7",
   "metadata": {},
   "outputs": [],
   "source": [
    "class CNN(nn.Module):\n",
    "    def __init__(self, in_dim, hidden_dim, out_dim):\n",
    "        super().__init__()\n",
    "        self.kernel_size = 2\n",
    "        self.stride = 2\n",
    "        self.input_length = 116584\n",
    "        # data = [batch_size, in_channels, input_length]\n",
    "        \n",
    "        ## layer 1\n",
    "        self.layer1 = nn.Sequential(\n",
    "            nn.Conv1d(in_channels=in_dim, out_channels=hidden_dim, kernel_size=3, stride=1, padding=1),\n",
    "            nn.ReLU(),\n",
    "            nn.MaxPool1d(kernel_size=self.kernel_size, stride=self.stride))\n",
    "        \n",
    "        self.out_length = ((self.input_length - self.kernel_size) / self.stride) + 1\n",
    "        \n",
    "        ## layer 2\n",
    "        self.input_length = self.out_length\n",
    "        self.layer2 = nn.Sequential(\n",
    "            nn.Conv1d(in_channels=hidden_dim, out_channels=out_dim, kernel_size=3, stride=1, padding=1),\n",
    "            nn.ReLU(),\n",
    "            nn.MaxPool1d(kernel_size=2, stride=2))\n",
    "        \n",
    "        self.out_length = ((self.input_length - self.kernel_size) / self.stride) + 1\n",
    "        \n",
    "        ## layer 3\n",
    "        self.layer3 = nn.Sequential(\n",
    "            nn.ReLU(),\n",
    "            nn.Linear(int(self.out_length), out_dim),\n",
    "            nn.Sigmoid())\n",
    "        \n",
    "        ## dropout\n",
    "        self.dropout = nn.Dropout(p=0.1)\n",
    "        \n",
    "    def forward(self, x):\n",
    "        x = self.layer1(x)\n",
    "        x = self.layer2(x)\n",
    "        x = self.dropout(x)\n",
    "        x = self.layer3(x)\n",
    "        return x"
   ]
  },
  {
   "cell_type": "code",
   "execution_count": 11,
   "id": "fd6d25a4",
   "metadata": {},
   "outputs": [
    {
     "data": {
      "text/plain": [
       "CNN(\n",
       "  (layer1): Sequential(\n",
       "    (0): Conv1d(1, 1024, kernel_size=(3,), stride=(1,), padding=(1,))\n",
       "    (1): ReLU()\n",
       "    (2): MaxPool1d(kernel_size=2, stride=2, padding=0, dilation=1, ceil_mode=False)\n",
       "  )\n",
       "  (layer2): Sequential(\n",
       "    (0): Conv1d(1024, 1, kernel_size=(3,), stride=(1,), padding=(1,))\n",
       "    (1): ReLU()\n",
       "    (2): MaxPool1d(kernel_size=2, stride=2, padding=0, dilation=1, ceil_mode=False)\n",
       "  )\n",
       "  (layer3): Sequential(\n",
       "    (0): ReLU()\n",
       "    (1): Linear(in_features=29146, out_features=1, bias=True)\n",
       "    (2): Sigmoid()\n",
       "  )\n",
       "  (dropout): Dropout(p=0.1, inplace=False)\n",
       ")"
      ]
     },
     "execution_count": 11,
     "metadata": {},
     "output_type": "execute_result"
    }
   ],
   "source": [
    "params = {'in_dim': 1, \n",
    "          'hidden_dim': 2 ** 10, \n",
    "          'out_dim': 1,\n",
    "          'lr': 1e-4,\n",
    "          'num_epoch': 300,\n",
    "         'print_step': 50}\n",
    "\n",
    "model = CNN(params['in_dim'], params['hidden_dim'], params['out_dim'])\n",
    "model"
   ]
  },
  {
   "cell_type": "code",
   "execution_count": 12,
   "id": "ecb966aa",
   "metadata": {},
   "outputs": [],
   "source": [
    "criterion = nn.CrossEntropyLoss()\n",
    "optimizer = torch.optim.Adam(model.parameters(), lr=params['lr'])\n",
    "lr_scheduler = torch.optim.lr_scheduler.StepLR(optimizer, step_size=10, gamma=0.1)\n",
    "device = torch.device(\"cuda:0\" if torch.cuda.is_available() else \"cpu\")"
   ]
  },
  {
   "cell_type": "code",
   "execution_count": 13,
   "id": "8fe4970b",
   "metadata": {},
   "outputs": [],
   "source": [
    "val_loss, val_acc = [], []\n",
    "def valid_model(model, val_loader, roc_auc_best, epoch, train_loader):\n",
    "    loss_, acc_ = 0., 0.\n",
    "    y_pred_, y_truth_, pt_ = [], [], []\n",
    "\n",
    "    for i, data in tqdm(enumerate(val_loader), total=len(val_loader)):\n",
    "        X = data['data'].reshape(1, 1, -1).to(dtype=torch.float).to(device)\n",
    "        y = data['target'].float()\n",
    "            \n",
    "        logits = model(X).reshape(1).to(device)\n",
    "        y = y.type_as(logits)\n",
    "        loss_ += F.binary_cross_entropy_with_logits(logits, y).item()\n",
    "        pred = logits.ge(0.).byte()\n",
    "        acc_ += pred.eq(y.byte()).float().mean().item()\n",
    "        y_pred = torch.sigmoid(logits) \n",
    "        # Store batch metrics:\n",
    "        y_pred_.append(y_pred.tolist())\n",
    "        y_truth_.append(y.tolist())\n",
    "\n",
    "    y_pred_ = np.concatenate(y_pred_)\n",
    "    y_truth_ = np.concatenate(y_truth_)\n",
    "\n",
    "    val_loss.append(loss_/len(val_loader))\n",
    "    val_acc.append(acc_/len(val_loader))\n",
    "    print('Epoch: {}, Validation loss: {:.4f}, Validation accuracy: {:.4f}'.format(epoch, val_loss[epoch-1], val_acc[epoch-1]))\n",
    "    \n",
    "    fpr, tpr, _ = roc_curve(y_truth_, y_pred_)\n",
    "    roc_auc = auc(fpr, tpr)\n",
    "    s = \"VAL ROC AUC: %.4f\"%(roc_auc)\n",
    "    print(s)\n",
    "\n",
    "    if roc_auc > roc_auc_best:\n",
    "        roc_auc_best = roc_auc\n",
    "    \n",
    "    return roc_auc_best, val_loss, val_acc, fpr, tpr"
   ]
  },
  {
   "cell_type": "code",
   "execution_count": 14,
   "id": "7385fb0a",
   "metadata": {},
   "outputs": [
    {
     "data": {
      "application/vnd.jupyter.widget-view+json": {
       "model_id": "e2110cedb445488ab83bc7f9561ff456",
       "version_major": 2,
       "version_minor": 0
      },
      "text/plain": [
       "  0%|          | 0/45 [00:00<?, ?it/s]"
      ]
     },
     "metadata": {},
     "output_type": "display_data"
    },
    {
     "ename": "KeyboardInterrupt",
     "evalue": "",
     "output_type": "error",
     "traceback": [
      "\u001b[0;31m---------------------------------------------------------------------------\u001b[0m",
      "\u001b[0;31mKeyboardInterrupt\u001b[0m                         Traceback (most recent call last)",
      "\u001b[0;32m<ipython-input-14-9bcb41c6af17>\u001b[0m in \u001b[0;36m<module>\u001b[0;34m\u001b[0m\n\u001b[1;32m     19\u001b[0m         \u001b[0my_pred\u001b[0m \u001b[0;34m=\u001b[0m \u001b[0mmodel\u001b[0m\u001b[0;34m(\u001b[0m\u001b[0mX\u001b[0m\u001b[0;34m)\u001b[0m\u001b[0;34m.\u001b[0m\u001b[0mreshape\u001b[0m\u001b[0;34m(\u001b[0m\u001b[0;36m1\u001b[0m\u001b[0;34m)\u001b[0m\u001b[0;34m\u001b[0m\u001b[0;34m\u001b[0m\u001b[0m\n\u001b[1;32m     20\u001b[0m         \u001b[0mloss\u001b[0m \u001b[0;34m=\u001b[0m \u001b[0mF\u001b[0m\u001b[0;34m.\u001b[0m\u001b[0mbinary_cross_entropy_with_logits\u001b[0m\u001b[0;34m(\u001b[0m\u001b[0my_pred\u001b[0m\u001b[0;34m,\u001b[0m \u001b[0my\u001b[0m\u001b[0;34m)\u001b[0m\u001b[0;34m\u001b[0m\u001b[0;34m\u001b[0m\u001b[0m\n\u001b[0;32m---> 21\u001b[0;31m         \u001b[0mloss\u001b[0m\u001b[0;34m.\u001b[0m\u001b[0mbackward\u001b[0m\u001b[0;34m(\u001b[0m\u001b[0;34m)\u001b[0m\u001b[0;34m\u001b[0m\u001b[0;34m\u001b[0m\u001b[0m\n\u001b[0m\u001b[1;32m     22\u001b[0m         \u001b[0moptimizer\u001b[0m\u001b[0;34m.\u001b[0m\u001b[0mstep\u001b[0m\u001b[0;34m(\u001b[0m\u001b[0;34m)\u001b[0m\u001b[0;34m\u001b[0m\u001b[0;34m\u001b[0m\u001b[0m\n\u001b[1;32m     23\u001b[0m \u001b[0;34m\u001b[0m\u001b[0m\n",
      "\u001b[0;32m~/anaconda3/lib/python3.7/site-packages/torch/_tensor.py\u001b[0m in \u001b[0;36mbackward\u001b[0;34m(self, gradient, retain_graph, create_graph, inputs)\u001b[0m\n\u001b[1;32m    361\u001b[0m                 \u001b[0mcreate_graph\u001b[0m\u001b[0;34m=\u001b[0m\u001b[0mcreate_graph\u001b[0m\u001b[0;34m,\u001b[0m\u001b[0;34m\u001b[0m\u001b[0;34m\u001b[0m\u001b[0m\n\u001b[1;32m    362\u001b[0m                 inputs=inputs)\n\u001b[0;32m--> 363\u001b[0;31m         \u001b[0mtorch\u001b[0m\u001b[0;34m.\u001b[0m\u001b[0mautograd\u001b[0m\u001b[0;34m.\u001b[0m\u001b[0mbackward\u001b[0m\u001b[0;34m(\u001b[0m\u001b[0mself\u001b[0m\u001b[0;34m,\u001b[0m \u001b[0mgradient\u001b[0m\u001b[0;34m,\u001b[0m \u001b[0mretain_graph\u001b[0m\u001b[0;34m,\u001b[0m \u001b[0mcreate_graph\u001b[0m\u001b[0;34m,\u001b[0m \u001b[0minputs\u001b[0m\u001b[0;34m=\u001b[0m\u001b[0minputs\u001b[0m\u001b[0;34m)\u001b[0m\u001b[0;34m\u001b[0m\u001b[0;34m\u001b[0m\u001b[0m\n\u001b[0m\u001b[1;32m    364\u001b[0m \u001b[0;34m\u001b[0m\u001b[0m\n\u001b[1;32m    365\u001b[0m     \u001b[0;32mdef\u001b[0m \u001b[0mregister_hook\u001b[0m\u001b[0;34m(\u001b[0m\u001b[0mself\u001b[0m\u001b[0;34m,\u001b[0m \u001b[0mhook\u001b[0m\u001b[0;34m)\u001b[0m\u001b[0;34m:\u001b[0m\u001b[0;34m\u001b[0m\u001b[0;34m\u001b[0m\u001b[0m\n",
      "\u001b[0;32m~/anaconda3/lib/python3.7/site-packages/torch/autograd/__init__.py\u001b[0m in \u001b[0;36mbackward\u001b[0;34m(tensors, grad_tensors, retain_graph, create_graph, grad_variables, inputs)\u001b[0m\n\u001b[1;32m    173\u001b[0m     Variable._execution_engine.run_backward(  # Calls into the C++ engine to run the backward pass\n\u001b[1;32m    174\u001b[0m         \u001b[0mtensors\u001b[0m\u001b[0;34m,\u001b[0m \u001b[0mgrad_tensors_\u001b[0m\u001b[0;34m,\u001b[0m \u001b[0mretain_graph\u001b[0m\u001b[0;34m,\u001b[0m \u001b[0mcreate_graph\u001b[0m\u001b[0;34m,\u001b[0m \u001b[0minputs\u001b[0m\u001b[0;34m,\u001b[0m\u001b[0;34m\u001b[0m\u001b[0;34m\u001b[0m\u001b[0m\n\u001b[0;32m--> 175\u001b[0;31m         allow_unreachable=True, accumulate_grad=True)  # Calls into the C++ engine to run the backward pass\n\u001b[0m\u001b[1;32m    176\u001b[0m \u001b[0;34m\u001b[0m\u001b[0m\n\u001b[1;32m    177\u001b[0m def grad(\n",
      "\u001b[0;31mKeyboardInterrupt\u001b[0m: "
     ]
    }
   ],
   "source": [
    "## training \n",
    "train_loss = []\n",
    "val_loss = []\n",
    "train_acc = []\n",
    "val_best_auc = []\n",
    "total_val_loss = []\n",
    "total_val_acc = []\n",
    "total_fpr = []\n",
    "total_tpr = []\n",
    "roc_auc_best = 0.5\n",
    "\n",
    "for epoch in range(params['num_epoch']):\n",
    "    model.train()\n",
    "    running_loss, running_acc = 0, 0\n",
    "    \n",
    "    for i, batch in tqdm(enumerate(train_loader), total=len(train_loader)):\n",
    "        X = batch['data'].reshape(1, 1, -1).to(dtype=torch.float)\n",
    "        y = batch['target'].float()\n",
    "        y_pred = model(X).reshape(1)\n",
    "        loss = F.binary_cross_entropy_with_logits(y_pred, y)\n",
    "        loss.backward()\n",
    "        optimizer.step()\n",
    "        \n",
    "        running_loss += loss.item()\n",
    "        \n",
    "        pred = y_pred.ge(0.).byte()\n",
    "        acc = pred.eq(y.byte()).float().mean()\n",
    "        running_acc += acc.item()\n",
    "        \n",
    "    train_loss.append(running_loss / len(train_loader))\n",
    "    train_acc.append(running_acc / len(train_loader))\n",
    "    \n",
    "    if epoch % params['print_step'] == 0:\n",
    "        print(f'{epoch} - train loss -- {train_loss[-1]:.3f}, train acc -- {train_acc[-1]:.3f}')\n",
    "    \n",
    "    ## validation\n",
    "    model.eval()\n",
    "    roc_auc_best, val_loss, val_acc, fpr, tpr = valid_model(model, valid_loader, roc_auc_best, epoch, train_loader)\n",
    "    val_best_auc.append(roc_auc_best)\n",
    "    total_val_loss.append(np.mean(val_loss))\n",
    "    total_val_acc.append(np.mean(val_acc))\n",
    "    total_fpr.append(fpr)\n",
    "    total_tpr.append(tpr)\n",
    "        \n",
    "    ## save the model\n",
    "    if epoch % params['print_step'] == 0:\n",
    "        prefix = f'Conv1d_lr_' + str(params['lr']) + '_' + str(epoch)\n",
    "        save_checkpoint(model, epoch, train_loss, train_acc, total_val_loss, total_val_acc, fpr, tpr, prefix)\n",
    "        \n",
    "    lr_scheduler.step()\n",
    "    \n",
    "    output = {'train_loss': train_loss,\n",
    "             'train_acc': train_acc, \n",
    "             'val_loss': val_loss,\n",
    "             'val_acc': val_acc,\n",
    "             'total_fpr': total_fpr,\n",
    "             'total_tpr': total_tpr}"
   ]
  },
  {
   "cell_type": "code",
   "execution_count": null,
   "id": "b039db6d",
   "metadata": {},
   "outputs": [],
   "source": []
  },
  {
   "cell_type": "code",
   "execution_count": null,
   "id": "1a4dace6",
   "metadata": {},
   "outputs": [],
   "source": []
  }
 ],
 "metadata": {
  "kernelspec": {
   "display_name": "Python 3",
   "language": "python",
   "name": "python3"
  },
  "language_info": {
   "codemirror_mode": {
    "name": "ipython",
    "version": 3
   },
   "file_extension": ".py",
   "mimetype": "text/x-python",
   "name": "python",
   "nbconvert_exporter": "python",
   "pygments_lexer": "ipython3",
   "version": "3.7.6"
  }
 },
 "nbformat": 4,
 "nbformat_minor": 5
}
