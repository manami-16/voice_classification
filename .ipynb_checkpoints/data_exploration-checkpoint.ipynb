{
 "cells": [
  {
   "cell_type": "code",
   "execution_count": 8,
   "id": "b5292a11",
   "metadata": {},
   "outputs": [],
   "source": [
    "import numpy as np\n",
    "from scipy.io.wavfile import read\n",
    "import matplotlib.pyplot as plt"
   ]
  },
  {
   "cell_type": "code",
   "execution_count": 9,
   "id": "996fef9b",
   "metadata": {},
   "outputs": [],
   "source": [
    "PATH = './wav_data/'"
   ]
  },
  {
   "cell_type": "code",
   "execution_count": 13,
   "id": "d2d52651",
   "metadata": {},
   "outputs": [],
   "source": [
    "angry = read(PATH + 'angry1.wav')\n",
    "angry = np.array(angry[1], dtype=float)\n",
    "\n",
    "happy = read(PATH + 'happy1.wav')\n",
    "happy = np.array(happy[1], dtype=float)"
   ]
  },
  {
   "cell_type": "code",
   "execution_count": 14,
   "id": "778c242a",
   "metadata": {},
   "outputs": [
    {
     "data": {
      "image/png": "[encoded data removed]",
      "text/plain": [
       "<Figure size 432x216 with 2 Axes>"
      ]
     },
     "metadata": {
      "needs_background": "light"
     },
     "output_type": "display_data"
    }
   ],
   "source": [
    "plt.figure(figsize=(6, 3))\n",
    "\n",
    "plt.subplot(1, 2, 1)\n",
    "plt.plot(angry)\n",
    "plt.title('Angry')\n",
    "plt.xticks(np.linspace(0, len(angry), 4))\n",
    "\n",
    "plt.subplot(1, 2, 2)\n",
    "plt.plot(happy)\n",
    "plt.title('Happy')\n",
    "plt.tight_layout()\n",
    "plt.suptitle('Raw Audio Data')\n",
    "\n",
    "plt.savefig('./figure/raw_data.pdf', dpi=300)\n",
    "plt.show()"
   ]
  },
  {
   "cell_type": "code",
   "execution_count": 15,
   "id": "bb55aa99",
   "metadata": {},
   "outputs": [
    {
     "data": {
      "image/png": "[encoded data removed]",
      "text/plain": [
       "<Figure size 432x288 with 1 Axes>"
      ]
     },
     "metadata": {
      "needs_background": "light"
     },
     "output_type": "display_data"
    }
   ],
   "source": [
    "plt.plot(angry, label='angry')\n",
    "plt.plot(happy, label='happy')\n",
    "plt.legend()\n",
    "plt.show()"
   ]
  },
  {
   "cell_type": "code",
   "execution_count": 104,
   "id": "b831b148",
   "metadata": {},
   "outputs": [
    {
     "name": "stdout",
     "output_type": "stream",
     "text": [
      "0 -- 30.97% of data will be removed\n",
      "1 -- 47.89% of data will be removed\n",
      "3 -- 54.98% of data will be removed\n",
      "4 -- 43.52% of data will be removed\n"
     ]
    }
   ],
   "source": [
    "path = './wav_data/'\n",
    "dir_list = os.listdir(path)\n",
    "for i in range(len(dir_list)):\n",
    "    if dir_list[i] != '.ipynb_checkpoints':\n",
    "        data = read(path + dir_list[i])[1]\n",
    "        data = np.array(data)\n",
    "        num_slience = np.count_nonzero(abs(data) < 20)\n",
    "        ratio = 100 * num_slience / len(data)\n",
    "        print(f'{i} -- {ratio:.2f}% of data will be removed')\n"
   ]
  },
  {
   "cell_type": "code",
   "execution_count": 113,
   "id": "637fb14d",
   "metadata": {},
   "outputs": [],
   "source": [
    "def remove_silence(alpha=20):\n",
    "    \n",
    "    ## retreive all data under wav_data\n",
    "    ## extract where the absolute intensity is greater than alpha = 20\n",
    "    path = './wav_data/'\n",
    "    dir_list = os.listdir(path)\n",
    "    \n",
    "    trimmed_data = []\n",
    "    \n",
    "    for i in range(len(dir_list)):\n",
    "        if dir_list[i] != '.ipynb_checkpoints':\n",
    "            data = read(path + dir_list[i])[1]\n",
    "            data = np.array(data)\n",
    "            num_slience = np.count_nonzero(abs(data) < 20)\n",
    "            ratio = 100 * num_slience / len(data)\n",
    "            print(f'{i} -- {ratio:.2f}% of data will be removed')\n",
    "            \n",
    "            data = data[abs(data) > alpha]\n",
    "            filename = './trimmed_data/' + dir_list[i].split('.')[0] + '.npy'\n",
    "            np.save(file=filename, arr=data)"
   ]
  },
  {
   "cell_type": "code",
   "execution_count": 114,
   "id": "1dcd8696",
   "metadata": {},
   "outputs": [
    {
     "name": "stdout",
     "output_type": "stream",
     "text": [
      "0 -- 30.97% of data will be removed\n",
      "1 -- 47.89% of data will be removed\n",
      "3 -- 54.98% of data will be removed\n",
      "4 -- 43.52% of data will be removed\n"
     ]
    }
   ],
   "source": [
    "remove_silence()"
   ]
  },
  {
   "cell_type": "code",
   "execution_count": 131,
   "id": "1cff3a70",
   "metadata": {},
   "outputs": [],
   "source": [
    "def normalize_data():\n",
    "    \n",
    "    ## min/max normalization\n",
    "    path = './trimmed_data/'\n",
    "    dir_list = os.listdir(path)\n",
    "    \n",
    "    \n",
    "    for i in range(len(dir_list)):\n",
    "        if dir_list[i] != '.ipynb_checkpoints':\n",
    "            data = np.load(path + dir_list[i])\n",
    "            \n",
    "            diff = abs(max(data) - min(data))\n",
    "            min_data = min(data)\n",
    "            \n",
    "            normalized_data = []\n",
    "            for d in data:\n",
    "                _d = float((d - min_data) / diff)\n",
    "                normalized_data.append(_d)\n",
    "\n",
    "            normalized_data = np.array(normalized_data)\n",
    "            filename = './trimmed_data/' + dir_list[i].split('.')[0] + '.npy'\n",
    "            np.save(file=filename, arr=normalized_data)"
   ]
  },
  {
   "cell_type": "code",
   "execution_count": 132,
   "id": "4904ae4c",
   "metadata": {},
   "outputs": [],
   "source": [
    "normalize_data()"
   ]
  },
  {
   "cell_type": "code",
   "execution_count": null,
   "id": "327567e7",
   "metadata": {},
   "outputs": [],
   "source": []
  },
  {
   "cell_type": "code",
   "execution_count": 87,
   "id": "e85a8860",
   "metadata": {},
   "outputs": [
    {
     "data": {
      "text/plain": [
       "(85492, 3596, 0.3097162356321839)"
      ]
     },
     "execution_count": 87,
     "metadata": {},
     "output_type": "execute_result"
    }
   ],
   "source": [
    "np.count_nonzero(angry != 0), np.count_nonzero(angry == 0), np.count_nonzero(abs(angry) < 20)/89088"
   ]
  },
  {
   "cell_type": "code",
   "execution_count": 89,
   "id": "54c04f34",
   "metadata": {},
   "outputs": [
    {
     "data": {
      "text/plain": [
       "[<matplotlib.lines.Line2D at 0x7fc51275e710>]"
      ]
     },
     "execution_count": 89,
     "metadata": {},
     "output_type": "execute_result"
    },
    {
     "data": {
      "image/png": "[encoded data removed]",
      "text/plain": [
       "<Figure size 432x288 with 1 Axes>"
      ]
     },
     "metadata": {
      "needs_background": "light"
     },
     "output_type": "display_data"
    }
   ],
   "source": [
    "plt.plot(angry[abs(angry) > 20])"
   ]
  },
  {
   "cell_type": "code",
   "execution_count": 90,
   "id": "23f594d4",
   "metadata": {},
   "outputs": [
    {
     "data": {
      "text/plain": [
       "0.0"
      ]
     },
     "execution_count": 90,
     "metadata": {},
     "output_type": "execute_result"
    }
   ],
   "source": [
    "angry[-1]"
   ]
  },
  {
   "cell_type": "code",
   "execution_count": 76,
   "id": "b7d4843e",
   "metadata": {},
   "outputs": [],
   "source": [
    "def normalize_data(data):\n",
    "    normalized_data = []\n",
    "    diff = abs(max(data) - min(data))\n",
    "    min_data = min(data)\n",
    "    for d in data:\n",
    "        _d = (d - min_data) / diff\n",
    "        \n",
    "        normalized_data.append(_d)\n",
    "    normalized_data = np.array(normalized_data)\n",
    "    print(np.count_nonzero(abs(normalized_data) == 0))\n",
    "    return np.trim_zeros(normalized_data)"
   ]
  },
  {
   "cell_type": "code",
   "execution_count": 86,
   "id": "4c24ec3e",
   "metadata": {},
   "outputs": [
    {
     "data": {
      "text/plain": [
       "(22.675736961451246, 89088)"
      ]
     },
     "execution_count": 86,
     "metadata": {},
     "output_type": "execute_result"
    }
   ],
   "source": [
    "1/44.1*10**3, len(angry)"
   ]
  },
  {
   "cell_type": "code",
   "execution_count": 78,
   "id": "447a2ede",
   "metadata": {},
   "outputs": [
    {
     "data": {
      "text/plain": [
       "44100.0"
      ]
     },
     "execution_count": 78,
     "metadata": {},
     "output_type": "execute_result"
    }
   ],
   "source": [
    "44.1*10**3"
   ]
  },
  {
   "cell_type": "code",
   "execution_count": 79,
   "id": "3957eb21",
   "metadata": {},
   "outputs": [
    {
     "name": "stdout",
     "output_type": "stream",
     "text": [
      "2\n",
      "4\n"
     ]
    },
    {
     "data": {
      "image/png": "[encoded data removed]",
      "text/plain": [
       "<Figure size 432x288 with 1 Axes>"
      ]
     },
     "metadata": {
      "needs_background": "light"
     },
     "output_type": "display_data"
    }
   ],
   "source": [
    "iphone_sample_rate = 44.1 * 10**3\n",
    "\n",
    "plt.plot(normalize_data(angry), label='angry', alpha=0.5)\n",
    "plt.plot(normalize_data(happy), label='happy', alpha=0.5)\n",
    "plt.legend()\n",
    "plt.title('Normalized data')\n",
    "# plt.xticks(np.linspace(0, len(angry) / iphone_sample_rate, 10))\n",
    "# plt.xticks([0, len(angry) / iphone_sample_rate])\n",
    "plt.ylabel('Intensity')\n",
    "plt.xlabel('second * $10^{-4}$')\n",
    "plt.show()"
   ]
  },
  {
   "cell_type": "code",
   "execution_count": 61,
   "id": "9e5e9de6",
   "metadata": {},
   "outputs": [],
   "source": [
    "def convert_db(data):\n",
    "    converted_data = []\n",
    "    for d in data:\n",
    "        if d != 0:\n",
    "            converted_data.append(20 * np.log10(abs(d)))\n",
    "        else:\n",
    "            converted_data.append(0)\n",
    "    converted_data = np.array(converted_data)\n",
    "    return np.trim_zeros(converted_data)"
   ]
  },
  {
   "cell_type": "code",
   "execution_count": 63,
   "id": "22b821c3",
   "metadata": {},
   "outputs": [
    {
     "data": {
      "image/png": "[encoded data removed]",
      "text/plain": [
       "<Figure size 432x288 with 1 Axes>"
      ]
     },
     "metadata": {
      "needs_background": "light"
     },
     "output_type": "display_data"
    }
   ],
   "source": [
    "plt.plot(convert_db(angry), label='angry', alpha=0.5)\n",
    "plt.plot(convert_db(happy), label='happy', alpha=0.5)\n",
    "plt.legend()\n",
    "plt.title('Decibel Conversion')\n",
    "plt.ylabel('dB')\n",
    "plt.show()"
   ]
  },
  {
   "cell_type": "code",
   "execution_count": 60,
   "id": "8119a415",
   "metadata": {},
   "outputs": [
    {
     "data": {
      "text/plain": [
       "array([0., 0., 0., ..., 0., 0., 0.])"
      ]
     },
     "execution_count": 60,
     "metadata": {},
     "output_type": "execute_result"
    }
   ],
   "source": []
  },
  {
   "cell_type": "code",
   "execution_count": 21,
   "id": "c5830748",
   "metadata": {},
   "outputs": [],
   "source": [
    "def trim_audio(data, threshold=20):\n",
    "    trimmed = []\n",
    "    for d in data:\n",
    "        condition = abs(data) > threshold\n",
    "        _trimmed = np.extract(condition, data)\n",
    "        trimmed.append(_trimmed)\n",
    "    trimmed = np.array(trimmed)\n",
    "    \n",
    "    PATH = './audio_array/'\n",
    "    np.save(PATH, trimmed)\n",
    "    return np.array(trimmed)"
   ]
  },
  {
   "cell_type": "code",
   "execution_count": null,
   "id": "f4d70870",
   "metadata": {},
   "outputs": [],
   "source": []
  },
  {
   "cell_type": "code",
   "execution_count": 114,
   "id": "901e2f9d",
   "metadata": {},
   "outputs": [
    {
     "data": {
      "text/plain": [
       "[<matplotlib.lines.Line2D at 0x7f9ea20a2790>]"
      ]
     },
     "execution_count": 114,
     "metadata": {},
     "output_type": "execute_result"
    },
    {
     "data": {
      "image/png": "[encoded data removed]",
      "text/plain": [
       "<Figure size 432x288 with 1 Axes>"
      ]
     },
     "metadata": {
      "needs_background": "light"
     },
     "output_type": "display_data"
    }
   ],
   "source": [
    "condition = abs(angry) > 20\n",
    "trimmed = np.extract(condition, angry)\n",
    "plt.plot(trimmed)"
   ]
  },
  {
   "cell_type": "code",
   "execution_count": 109,
   "id": "1416f0d1",
   "metadata": {},
   "outputs": [
    {
     "data": {
      "text/plain": [
       "(85492,)"
      ]
     },
     "execution_count": 109,
     "metadata": {},
     "output_type": "execute_result"
    }
   ],
   "source": [
    "trimmed.shape"
   ]
  },
  {
   "cell_type": "markdown",
   "id": "f9e609ab",
   "metadata": {},
   "source": [
    "## What to do tomorrow (4/17)\n",
    "1. import bunch of audio files\n",
    "2. add a label (angry = 0, happy = 1)\n",
    "3. save them as numpy in a folder\n",
    "4. construct a CNN model"
   ]
  },
  {
   "cell_type": "code",
   "execution_count": 2,
   "id": "23fc19df",
   "metadata": {},
   "outputs": [],
   "source": [
    "from preprocessing import *"
   ]
  },
  {
   "cell_type": "code",
   "execution_count": 3,
   "id": "4df02e04",
   "metadata": {},
   "outputs": [
    {
     "data": {
      "text/html": [
       "<div>\n",
       "<style scoped>\n",
       "    .dataframe tbody tr th:only-of-type {\n",
       "        vertical-align: middle;\n",
       "    }\n",
       "\n",
       "    .dataframe tbody tr th {\n",
       "        vertical-align: top;\n",
       "    }\n",
       "\n",
       "    .dataframe thead th {\n",
       "        text-align: right;\n",
       "    }\n",
       "</style>\n",
       "<table border=\"1\" class=\"dataframe\">\n",
       "  <thead>\n",
       "    <tr style=\"text-align: right;\">\n",
       "      <th></th>\n",
       "      <th>filename</th>\n",
       "      <th>class</th>\n",
       "      <th>classID</th>\n",
       "    </tr>\n",
       "  </thead>\n",
       "  <tbody>\n",
       "    <tr>\n",
       "      <th>0</th>\n",
       "      <td>angry1.wav</td>\n",
       "      <td>angry</td>\n",
       "      <td>0</td>\n",
       "    </tr>\n",
       "    <tr>\n",
       "      <th>1</th>\n",
       "      <td>angry2.wav</td>\n",
       "      <td>angry</td>\n",
       "      <td>0</td>\n",
       "    </tr>\n",
       "    <tr>\n",
       "      <th>2</th>\n",
       "      <td>happy1.wav</td>\n",
       "      <td>happy</td>\n",
       "      <td>1</td>\n",
       "    </tr>\n",
       "    <tr>\n",
       "      <th>3</th>\n",
       "      <td>happy2.wav</td>\n",
       "      <td>happy</td>\n",
       "      <td>1</td>\n",
       "    </tr>\n",
       "  </tbody>\n",
       "</table>\n",
       "</div>"
      ],
      "text/plain": [
       "     filename  class  classID\n",
       "0  angry1.wav  angry        0\n",
       "1  angry2.wav  angry        0\n",
       "2  happy1.wav  happy        1\n",
       "3  happy2.wav  happy        1"
      ]
     },
     "execution_count": 3,
     "metadata": {},
     "output_type": "execute_result"
    }
   ],
   "source": [
    "df = make_dataframe()\n",
    "df"
   ]
  },
  {
   "cell_type": "code",
   "execution_count": 6,
   "id": "9c82d5fb",
   "metadata": {},
   "outputs": [
    {
     "ename": "FileNotFoundError",
     "evalue": "[Errno 2] No such file or directory: './wav_data/angry1.wav'",
     "output_type": "error",
     "traceback": [
      "\u001b[0;31m---------------------------------------------------------------------------\u001b[0m",
      "\u001b[0;31mFileNotFoundError\u001b[0m                         Traceback (most recent call last)",
      "\u001b[0;32m<ipython-input-6-61d64e178a98>\u001b[0m in \u001b[0;36m<module>\u001b[0;34m\u001b[0m\n\u001b[1;32m      2\u001b[0m \u001b[0mpath\u001b[0m \u001b[0;34m=\u001b[0m \u001b[0;34m'./wav_data/'\u001b[0m\u001b[0;34m\u001b[0m\u001b[0;34m\u001b[0m\u001b[0m\n\u001b[1;32m      3\u001b[0m \u001b[0;32mfor\u001b[0m \u001b[0mdata\u001b[0m \u001b[0;32min\u001b[0m \u001b[0mdf\u001b[0m\u001b[0;34m[\u001b[0m\u001b[0;34m'filename'\u001b[0m\u001b[0;34m]\u001b[0m\u001b[0;34m:\u001b[0m\u001b[0;34m\u001b[0m\u001b[0;34m\u001b[0m\u001b[0m\n\u001b[0;32m----> 4\u001b[0;31m     \u001b[0md\u001b[0m \u001b[0;34m=\u001b[0m \u001b[0mread\u001b[0m\u001b[0;34m(\u001b[0m\u001b[0mpath\u001b[0m \u001b[0;34m+\u001b[0m \u001b[0mdata\u001b[0m\u001b[0;34m)\u001b[0m\u001b[0;34m\u001b[0m\u001b[0;34m\u001b[0m\u001b[0m\n\u001b[0m\u001b[1;32m      5\u001b[0m     \u001b[0mprint\u001b[0m\u001b[0;34m(\u001b[0m\u001b[0md\u001b[0m\u001b[0;34m)\u001b[0m\u001b[0;34m\u001b[0m\u001b[0;34m\u001b[0m\u001b[0m\n\u001b[1;32m      6\u001b[0m     \u001b[0md\u001b[0m \u001b[0;34m=\u001b[0m \u001b[0mnp\u001b[0m\u001b[0;34m.\u001b[0m\u001b[0marray\u001b[0m\u001b[0;34m(\u001b[0m\u001b[0md\u001b[0m\u001b[0;34m,\u001b[0m \u001b[0mdtype\u001b[0m\u001b[0;34m=\u001b[0m\u001b[0mfloat\u001b[0m\u001b[0;34m)\u001b[0m\u001b[0;34m\u001b[0m\u001b[0;34m\u001b[0m\u001b[0m\n",
      "\u001b[0;32m~/anaconda3/lib/python3.7/site-packages/scipy/io/wavfile.py\u001b[0m in \u001b[0;36mread\u001b[0;34m(filename, mmap)\u001b[0m\n\u001b[1;32m    262\u001b[0m         \u001b[0mmmap\u001b[0m \u001b[0;34m=\u001b[0m \u001b[0;32mFalse\u001b[0m\u001b[0;34m\u001b[0m\u001b[0;34m\u001b[0m\u001b[0m\n\u001b[1;32m    263\u001b[0m     \u001b[0;32melse\u001b[0m\u001b[0;34m:\u001b[0m\u001b[0;34m\u001b[0m\u001b[0;34m\u001b[0m\u001b[0m\n\u001b[0;32m--> 264\u001b[0;31m         \u001b[0mfid\u001b[0m \u001b[0;34m=\u001b[0m \u001b[0mopen\u001b[0m\u001b[0;34m(\u001b[0m\u001b[0mfilename\u001b[0m\u001b[0;34m,\u001b[0m \u001b[0;34m'rb'\u001b[0m\u001b[0;34m)\u001b[0m\u001b[0;34m\u001b[0m\u001b[0;34m\u001b[0m\u001b[0m\n\u001b[0m\u001b[1;32m    265\u001b[0m \u001b[0;34m\u001b[0m\u001b[0m\n\u001b[1;32m    266\u001b[0m     \u001b[0;32mtry\u001b[0m\u001b[0;34m:\u001b[0m\u001b[0;34m\u001b[0m\u001b[0;34m\u001b[0m\u001b[0m\n",
      "\u001b[0;31mFileNotFoundError\u001b[0m: [Errno 2] No such file or directory: './wav_data/angry1.wav'"
     ]
    }
   ],
   "source": [
    "audio_array = []\n",
    "path = './wav_data/'\n",
    "for data in df['filename']:\n",
    "    d = read(path + data)\n",
    "    print(d)\n",
    "    d = np.array(d, dtype=float)\n",
    "    print(d)\n",
    "    audio_array.append(trim_audio(d))"
   ]
  },
  {
   "cell_type": "code",
   "execution_count": null,
   "id": "85d7eaef",
   "metadata": {},
   "outputs": [],
   "source": []
  }
 ],
 "metadata": {
  "kernelspec": {
   "display_name": "Python 3",
   "language": "python",
   "name": "python3"
  },
  "language_info": {
   "codemirror_mode": {
    "name": "ipython",
    "version": 3
   },
   "file_extension": ".py",
   "mimetype": "text/x-python",
   "name": "python",
   "nbconvert_exporter": "python",
   "pygments_lexer": "ipython3",
   "version": "3.7.6"
  }
 },
 "nbformat": 4,
 "nbformat_minor": 5
}
